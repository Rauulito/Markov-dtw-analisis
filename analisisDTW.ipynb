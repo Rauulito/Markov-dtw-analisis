{
 "cells": [
  {
   "cell_type": "markdown",
   "id": "17d5b8b1-ebb2-4471-a8be-7a4b79a9388d",
   "metadata": {},
   "source": [
    "La `deformación temporal dinámica(DTW)` se utiliza para comparar la similitud o calcular la distancia entre\n",
    "    dos matrices o series temporales con diferente longitud. Es realmente útil para el ***Reconocimiento de patrones de sonido***\n",
    "    reconociendo así la voz de una persona sin importar variables como la velocidad del habla, o para la ***Bolsa de Valores***.\n",
    "    \n",
    "\n"
   ]
  },
  {
   "cell_type": "code",
   "execution_count": null,
   "id": "b62faa94-1ef5-40aa-9d05-c2990c07b8fa",
   "metadata": {},
   "outputs": [],
   "source": [
    "def dtw(s, t):\n",
    "    n, m = len(s), len(t)\n",
    "    dtw_matrix = np.zeros((n+1, m+1))\n",
    "    for i in range(n+1):\n",
    "        for j in range(m+1):\n",
    "            dtw_matrix[i, j] = np.inf\n",
    "    dtw_matrix[0, 0] = 0\n",
    "    \n",
    "    for i in range(1, n+1):\n",
    "        for j in range(1, m+1):\n",
    "            cost = abs(s[i-1] - t[j-1])\n",
    "            # take last min from a square box\n",
    "            last_min = np.min([dtw_matrix[i-1, j], dtw_matrix[i, j-1], dtw_matrix[i-1, j-1]])\n",
    "            dtw_matrix[i, j] = cost + last_min\n",
    "    return dtw_matrix"
   ]
  },
  {
   "cell_type": "code",
   "execution_count": 14,
   "id": "1ceb6ae0-fdd7-4687-a198-8bfc2d7bb6e0",
   "metadata": {},
   "outputs": [
    {
     "data": {
      "text/plain": [
       "array([[ 0., inf, inf, inf, inf, inf],\n",
       "       [inf,  1.,  2.,  3.,  5.,  8.],\n",
       "       [inf,  1.,  1.,  1.,  2.,  4.],\n",
       "       [inf,  2.,  2.,  2.,  1.,  2.]])"
      ]
     },
     "execution_count": 14,
     "metadata": {},
     "output_type": "execute_result"
    }
   ],
   "source": [
    "a=[1,2,3]\n",
    "b=[2,2,2,3,4]\n",
    "dtw(a,b)"
   ]
  },
  {
   "cell_type": "markdown",
   "id": "b6514d88-5bf1-438a-92c9-4b940c18c027",
   "metadata": {},
   "source": [
    "La distancia entre a y b sería el último elemento de la matriz, que es 2."
   ]
  },
  {
   "cell_type": "code",
   "execution_count": 15,
   "id": "2f40b37b-0ed4-4685-8e46-1a827fc9d2f2",
   "metadata": {},
   "outputs": [],
   "source": [
    "import numpy as np"
   ]
  },
  {
   "cell_type": "markdown",
   "id": "b9cd5889-09e1-46ad-aae6-9fd002575a44",
   "metadata": {},
   "source": [
    "***AGREGAR RESTRICCION DE VENTANA***\n"
   ]
  },
  {
   "cell_type": "markdown",
   "id": "53850601-7b59-41e6-8b5a-51453bbf1c9d",
   "metadata": {},
   "source": [
    "   Un problema del algoritmo anterior es que permitimos que un elemento en una matriz coincida con un número ilimitado\n",
    "de elementos en la otra matriz (siempre que la cola pueda coincidir al final), esto haría que el mapeo se doblara mucho.\n",
    "   Para evitar esto, podemos agregar una restricción de ventana para limitar la cantidad de elementos que uno puede hacer coincidir."
   ]
  },
  {
   "cell_type": "code",
   "execution_count": 16,
   "id": "f3535b6b-7788-4a84-9690-f2033373d8ad",
   "metadata": {},
   "outputs": [],
   "source": [
    "\n",
    "def dtw(s, t, window):\n",
    "    n, m = len(s), len(t)\n",
    "    w = np.max([window, abs(n-m)])\n",
    "    dtw_matrix = np.zeros((n+1, m+1))\n",
    "    \n",
    "    for i in range(n+1):\n",
    "        for j in range(m+1):\n",
    "            dtw_matrix[i, j] = np.inf\n",
    "    dtw_matrix[0, 0] = 0\n",
    "    \n",
    "    for i in range(1, n+1):\n",
    "        for j in range(np.max([1, i-w]), np.min([m, i+w])+1):\n",
    "            dtw_matrix[i, j] = 0\n",
    "    \n",
    "    for i in range(1, n+1):\n",
    "        for j in range(np.max([1, i-w]), np.min([m, i+w])+1):\n",
    "            cost = abs(s[i-1] - t[j-1])\n",
    "            # take last min from a square box\n",
    "            last_min = np.min([dtw_matrix[i-1, j], dtw_matrix[i, j-1], dtw_matrix[i-1, j-1]])\n",
    "            dtw_matrix[i, j] = cost + last_min\n",
    "    return dtw_matrix"
   ]
  },
  {
   "cell_type": "code",
   "execution_count": 17,
   "id": "ec5f7ce7-b930-4b90-9359-846c58b76dbc",
   "metadata": {},
   "outputs": [
    {
     "data": {
      "text/plain": [
       "array([[ 0., inf, inf, inf, inf, inf, inf, inf, inf],\n",
       "       [inf,  0.,  1.,  2.,  3., inf, inf, inf, inf],\n",
       "       [inf,  1.,  0.,  0.,  0.,  0., inf, inf, inf],\n",
       "       [inf,  3.,  1.,  1.,  1.,  1.,  1., inf, inf],\n",
       "       [inf,  5.,  2.,  2.,  2.,  2.,  2.,  2., inf],\n",
       "       [inf, inf,  5.,  5.,  5.,  5.,  5.,  5.,  3.]])"
      ]
     },
     "execution_count": 17,
     "metadata": {},
     "output_type": "execute_result"
    }
   ],
   "source": [
    "a = [1, 2, 3, 3, 5]\n",
    "b = [1, 2, 2, 2, 2, 2, 2, 4]\n",
    "\n",
    "dtw(a, b, window=3)"
   ]
  }
 ],
 "metadata": {
  "kernelspec": {
   "display_name": "Python 3 (ipykernel)",
   "language": "python",
   "name": "python3"
  },
  "language_info": {
   "codemirror_mode": {
    "name": "ipython",
    "version": 3
   },
   "file_extension": ".py",
   "mimetype": "text/x-python",
   "name": "python",
   "nbconvert_exporter": "python",
   "pygments_lexer": "ipython3",
   "version": "3.9.12"
  }
 },
 "nbformat": 4,
 "nbformat_minor": 5
}
